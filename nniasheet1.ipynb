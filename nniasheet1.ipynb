{
 "cells": [
  {
   "cell_type": "markdown",
   "metadata": {},
   "source": [
    "# Assignment Sheet 1:  Hands-on Linear Regression (deadline: 31 Oct, 14:00)"
   ]
  },
  {
   "cell_type": "markdown",
   "metadata": {},
   "source": [
    "## Introduction"
   ]
  },
  {
   "cell_type": "markdown",
   "metadata": {},
   "source": [
    "The goal of this first exercise sheet is to make you familiar with **jupyter notebook** which we will use to run part of the exercises in this class."
   ]
  },
  {
   "cell_type": "markdown",
   "metadata": {},
   "source": [
    "In order to do so you have to implement a very naive algorithm to solve a **linear regression** problem: **Grid Search**."
   ]
  },
  {
   "cell_type": "markdown",
   "metadata": {
    "collapsed": true
   },
   "source": [
    "## Linear Regression"
   ]
  },
  {
   "cell_type": "markdown",
   "metadata": {},
   "source": [
    "Linear regression is one of the simplest and also most widely used machine learning algorithms. It is used to model the relationship between a dependent variable $y$ and one or more independent (also called explanatory) variables $x$. Here, we will focus on the case where we just have a single indepenedent variable, so-called **simple linear regression**."
   ]
  },
  {
   "cell_type": "markdown",
   "metadata": {},
   "source": [
    "Given some inputs $x = \\{x_0, \\dots, x_n\\}$ and corresponding outputs $y = \\{y_0, \\dots, y_n\\}$. Linear regression assumes that there exists an (unknown!) linear relationship between the input and the output, i.e."
   ]
  },
  {
   "cell_type": "markdown",
   "metadata": {},
   "source": [
    "$$y = f(x) = \\beta_0 + \\beta_1x + \\epsilon$$"
   ]
  },
  {
   "cell_type": "markdown",
   "metadata": {},
   "source": [
    "where $\\epsilon$ is an unobserved noise variable. This relationship is approximated as"
   ]
  },
  {
   "cell_type": "markdown",
   "metadata": {},
   "source": [
    "$$\\hat{y} = \\hat{f}(x; w_0, w_1) = w_0 + w_1x$$."
   ]
  },
  {
   "cell_type": "markdown",
   "metadata": {},
   "source": [
    "Hence, the goal of linear regression is to estimate the unknown parameters $w_0$ and $w_1$ such that the error between the model prediction $\\hat{y}$ and the true output $y$ is minimized. Formaly, let the ith **residual** be"
   ]
  },
  {
   "cell_type": "markdown",
   "metadata": {},
   "source": [
    "$$r_i = y_i - \\hat{f}(x_i; w_0, w_1)$$"
   ]
  },
  {
   "cell_type": "markdown",
   "metadata": {},
   "source": [
    "i.e. the difference between the ith output and the ith prediction and let"
   ]
  },
  {
   "cell_type": "markdown",
   "metadata": {},
   "source": [
    "$$S = \\sum\\limits_{i=1}^n r_i^2$$"
   ]
  },
  {
   "cell_type": "markdown",
   "metadata": {},
   "source": [
    "be the sum of squared residuals. Then one tries to find the paramaters $w_0$ and $w_1$ that minimize"
   ]
  },
  {
   "cell_type": "markdown",
   "metadata": {},
   "source": [
    "$$MSE = \\frac{1}{n}~S$$"
   ]
  },
  {
   "cell_type": "markdown",
   "metadata": {},
   "source": [
    "the so called **mean squared error**."
   ]
  },
  {
   "cell_type": "markdown",
   "metadata": {},
   "source": [
    "### 1. Exercise: Fitting a Linear Regression Model"
   ]
  },
  {
   "cell_type": "markdown",
   "metadata": {},
   "source": [
    "In this exercise you will implement several functions which will help you to fit a simple linear regression model on training data using grid search."
   ]
  },
  {
   "cell_type": "markdown",
   "metadata": {},
   "source": [
    "**Before you start:**\n",
    "- Make sure that you use numpy arrays instead of python lists.\n",
    "- You can assume that all vectors are column vectors not row vectors.\n",
    "- Hint: Try to vectorize as much of your computations as possible."
   ]
  },
  {
   "cell_type": "markdown",
   "metadata": {},
   "source": [
    "#### Task 1: Implement a loss function which measures the average squared difference between the true data and the model prediction, i.e the mean squared error (MSE)."
   ]
  },
  {
   "cell_type": "markdown",
   "metadata": {},
   "source": [
    "**Points: 1.0**"
   ]
  },
  {
   "cell_type": "code",
   "execution_count": 131,
   "metadata": {
    "collapsed": true
   },
   "outputs": [],
   "source": [
    "# We will make use of numpy to vectorize most of the computations\n",
    "import numpy as np\n",
    "import sys"
   ]
  },
  {
   "cell_type": "code",
   "execution_count": 132,
   "metadata": {
    "collapsed": true
   },
   "outputs": [],
   "source": [
    "def loss(y, prediction):\n",
    "    \"\"\"\n",
    "    :param y: The true outputs\n",
    "    :param prediction: The predictions of your model\n",
    "    :return: The MSE between the model predictions and the true outputs\n",
    "    \"\"\"\n",
    "    # TODO: implement\n",
    "    \n",
    "    N = y.size\n",
    "    # The error in a prediction is always the difference between the predicted output\n",
    "    # and the true output\n",
    "    error = prediction - y\n",
    "    # Now we calculate the Mean Squared Error by taking square of the difference\n",
    "    # and summing up the np array, and averaging this sum\n",
    "    mse = (np.sum(error**2))/N\n",
    "    return mse\n"
   ]
  },
  {
   "cell_type": "markdown",
   "metadata": {},
   "source": [
    "#### Task 2: Implement a function which describes a linear relationship between the input and output."
   ]
  },
  {
   "cell_type": "markdown",
   "metadata": {},
   "source": [
    "**Points: 0.5**"
   ]
  },
  {
   "cell_type": "code",
   "execution_count": 133,
   "metadata": {
    "collapsed": true
   },
   "outputs": [],
   "source": [
    "def linear_model(intercept, slope, x):\n",
    "    \"\"\"\n",
    "    :param intercept: The model intercept\n",
    "    :param slope: The model slope\n",
    "    :return: The model prediction on x\n",
    "    \"\"\"\n",
    "    # TODO: implement\n",
    "    \n",
    "    # A simple function where we take in the slope and the intercept values and the input data\n",
    "    # to model a simple linear regression model with the formula y = m*x + c\n",
    "    \n",
    "    y = slope * x + intercept\n",
    "    return y\n",
    "    "
   ]
  },
  {
   "cell_type": "markdown",
   "metadata": {},
   "source": [
    "#### Task 3: Given different values for the slope and the intercept of your model. Implement a function which returns those that result in the best fit, i.e. minimizes the difference between the true data and the model prediction."
   ]
  },
  {
   "cell_type": "markdown",
   "metadata": {},
   "source": [
    "**Points: 4.0**"
   ]
  },
  {
   "cell_type": "code",
   "execution_count": 134,
   "metadata": {
    "collapsed": true
   },
   "outputs": [],
   "source": [
    "def grid_search(intercepts, slopes, x, y):\n",
    "    \"\"\"\n",
    "    :param intercepts: A numpy array of different intercepts\n",
    "    :param slopes: A numpy array of different slopes\n",
    "    :param x: The inputs\n",
    "    :param y: The true outputs\n",
    "    :return (intercept, slope): The intercept and slope that result in the best fit\n",
    "    \"\"\"\n",
    "    # TODO: implement\n",
    "\n",
    "    # Here we will basically go through all the possible (intercept,slope) combinations to find the best model.\n",
    "    # The model parameters that provide with lowest MSE will be returned as (intercept, slope) tuple.\n",
    "    min_err = sys.maxsize\n",
    "    min_index_i = 0\n",
    "    min_index_j = 0\n",
    "    #predicted = []\n",
    "    \n",
    "    # Outer loop to loop through the possible intercepts\n",
    "    for i in range(intercepts.size):\n",
    "        # Inner loop to loop through the slopes\n",
    "        for j in range(slopes.size):\n",
    "            # Prediction based on the particular intercept and slope value\n",
    "            pred_out = linear_model(intercepts[i], slopes[j], x)\n",
    "            # Calculate the MSE\n",
    "            mse = loss(y, pred_out)\n",
    "            # If this MSE is less than previously recorded value, simply update the variables\n",
    "            if mse < min_err:\n",
    "                min_err = mse\n",
    "                min_index_i = i\n",
    "                min_index_j = j\n",
    "        \n",
    "      \n",
    "    print (\"Minimum MSE obtained by grid search: \",min_err)\n",
    "    \n",
    "    return (intercepts[min_index_i],slopes[min_index_j])\n",
    "    "
   ]
  },
  {
   "cell_type": "markdown",
   "metadata": {},
   "source": [
    "#### Task 4: Fit a linear model over some training data and plot the resulting model using matplotlib."
   ]
  },
  {
   "cell_type": "markdown",
   "metadata": {},
   "source": [
    "**Points: 1.5**"
   ]
  },
  {
   "cell_type": "code",
   "execution_count": 135,
   "metadata": {
    "collapsed": true
   },
   "outputs": [],
   "source": [
    "# We will use the datasets functionality provided by sklearn to generate some training data\n",
    "from sklearn.datasets import make_regression, make_classification\n",
    "\n",
    "# Let's create some training data to fit our model on\n",
    "x_train, y_train = make_regression(n_samples=50, n_features=1, n_informative=1, noise=30.0)\n",
    "y_train = y_train[:, None] #  make y a column vector"
   ]
  },
  {
   "cell_type": "code",
   "execution_count": 136,
   "metadata": {
    "collapsed": true
   },
   "outputs": [],
   "source": [
    "# This is the test data on which we want to evaluate our fitted model\n",
    "\n",
    "# STILL NEED TO FIND USE FOR THIS!!\n",
    "x_test = np.linspace(start=-4, stop=4, num=20)\n",
    "x_test = x_test[:, None] #  make x_test a column vector"
   ]
  },
  {
   "cell_type": "code",
   "execution_count": 137,
   "metadata": {
    "collapsed": true
   },
   "outputs": [],
   "source": [
    "# These are the different values for the intercept and slope on which we want to perform a gridsearch\n",
    "intercepts = np.linspace(start=-10.0, stop=10.0, num=50)\n",
    "intercepts = intercepts[:, None] #  make intercepts a column vector\n",
    "slopes = np.linspace(start=0.0, stop=100.0, num=50)\n",
    "slopes = slopes[:, None] #  make slopes a column vector"
   ]
  },
  {
   "cell_type": "markdown",
   "metadata": {},
   "source": [
    "**Write code to fit a linear model on $x_{train}$.**"
   ]
  },
  {
   "cell_type": "code",
   "execution_count": 138,
   "metadata": {},
   "outputs": [
    {
     "name": "stdout",
     "output_type": "stream",
     "text": [
      "Minimum MSE obtained by grid search:  787.014523145\n",
      "Slope: [ 2.04081633]\n",
      "Intercept: [-3.46938776]\n"
     ]
    }
   ],
   "source": [
    "# TODO: fit a linear model on x_train\n",
    "# How we fit the model...\n",
    "# We call the function grid_search with the list of possible intercepts, slopes, the training data\n",
    "# This function will build model for each intercept, slope and analyze the MSE and return the best performing model\n",
    "# The return value will be a tuple of (intercept, slope)\n",
    "\n",
    "return_val = grid_search(intercepts, slopes, x_train, y_train)\n",
    "intercept = return_val[0]\n",
    "slope = return_val[1]\n",
    "y_out = linear_model(intercept, slope, x_train)\n",
    "\n",
    "y_test = linear_model(intercept, slope, x_test)\n",
    "\n",
    "#Printing here just for diagnosis\n",
    "print (\"Slope:\",slope)\n",
    "print(\"Intercept:\",intercept)"
   ]
  },
  {
   "cell_type": "code",
   "execution_count": 139,
   "metadata": {},
   "outputs": [
    {
     "name": "stdout",
     "output_type": "stream",
     "text": [
      "x_test data:  [[-4.        ]\n",
      " [-3.57894737]\n",
      " [-3.15789474]\n",
      " [-2.73684211]\n",
      " [-2.31578947]\n",
      " [-1.89473684]\n",
      " [-1.47368421]\n",
      " [-1.05263158]\n",
      " [-0.63157895]\n",
      " [-0.21052632]\n",
      " [ 0.21052632]\n",
      " [ 0.63157895]\n",
      " [ 1.05263158]\n",
      " [ 1.47368421]\n",
      " [ 1.89473684]\n",
      " [ 2.31578947]\n",
      " [ 2.73684211]\n",
      " [ 3.15789474]\n",
      " [ 3.57894737]\n",
      " [ 4.        ]]\n",
      "predicted y_test data: [[-11.63265306]\n",
      " [-10.77336198]\n",
      " [ -9.91407089]\n",
      " [ -9.05477981]\n",
      " [ -8.19548872]\n",
      " [ -7.33619764]\n",
      " [ -6.47690655]\n",
      " [ -5.61761547]\n",
      " [ -4.75832438]\n",
      " [ -3.8990333 ]\n",
      " [ -3.03974221]\n",
      " [ -2.18045113]\n",
      " [ -1.32116004]\n",
      " [ -0.46186896]\n",
      " [  0.39742213]\n",
      " [  1.25671321]\n",
      " [  2.1160043 ]\n",
      " [  2.97529538]\n",
      " [  3.83458647]\n",
      " [  4.69387755]]\n"
     ]
    }
   ],
   "source": [
    "# Printing the values of x_test and predicted y_test using our linear model\n",
    "\n",
    "print('x_test data: ',x_test)\n",
    "print('predicted y_test data:', y_test)"
   ]
  },
  {
   "cell_type": "markdown",
   "metadata": {},
   "source": [
    "**Complete the code below to plot the training data together with the fitted linear model.**"
   ]
  },
  {
   "cell_type": "code",
   "execution_count": 140,
   "metadata": {},
   "outputs": [
    {
     "data": {
      "image/png": "[encoded data removed]",
      "text/plain": [
       "<matplotlib.figure.Figure at 0x7fcfd26e2898>"
      ]
     },
     "metadata": {},
     "output_type": "display_data"
    }
   ],
   "source": [
    "%matplotlib inline\n",
    "import matplotlib.pyplot as plt\n",
    "\n",
    "# Create a matplotlib figure for the training data and our fitted linear regression model\n",
    "fig, axes = plt.subplots(1, 1)\n",
    "axes.scatter(x_train, y_train, color='blue', marker='.', alpha=.6, s=2e2, label='Training Data')\n",
    "axes.scatter(x_test, y_test, color='green', marker='.', alpha=.6, s=2e2, label='Test Data')\n",
    "axes.plot(x_train, y_out, color='red', ls='-', label='Linear Model')\n",
    "axes.legend(loc='upper left');"
   ]
  },
  {
   "cell_type": "markdown",
   "metadata": {},
   "source": [
    "#### Task 5: Run the code above several times. Each time the generated data will be different. How would you interpret the result? Is the obtained fit good enough? What are disadvantages of the grid search approach and what could be other (better) ways of fitting a linear model?"
   ]
  },
  {
   "cell_type": "markdown",
   "metadata": {},
   "source": [
    "**Points: 3.0**"
   ]
  },
  {
   "cell_type": "markdown",
   "metadata": {},
   "source": [
    "- *(put your answers here)*\n",
    "\n",
    "The linear model does not seem to fit the data points, especially if the data points show scatter beyond a certain level.\n",
    "- *(put your answers here)*\n",
    "\n",
    "After fitting the model, and predicting the output for the x_test, we can see that the model generated by grid search doesn't accurately show the variance in the values of y, especially that we can see from the training set.\n",
    "- *(put your answers here)*\n",
    "\n",
    "There are several disadvantages of grid search\n",
    "    1. If we have too many features, our grid will become a very high dimensional matrix grid. This will result in multiple nested loops, slowing down the implementation.\n",
    "    2. Grid search usually works on a manually set range of parameter values. Often the selection of the parameter range might become difficult. It will be difficult to set the range of parameters if there is more scatter, we have a bigger data-set, and if the underlying data relationship is more complex than just a linear one.\n",
    "- *(put your answers here)*\n",
    "\n",
    "One alternative technique could be to use the gradient descent algorithm, where we have a step size, and an initial starting value for our parameters. W update the parameters depending on the error for the current parameter values and the step size. \n",
    "Another technique would be to use a random sweep of the parameter space instead of the simple grid search technique. So, we can randomly sample the parameter space, instead of building a grid, and then go through these random points and analyze.\n",
    "\n",
    "\n",
    "\n",
    "\n",
    "\n"
   ]
  },
  {
   "cell_type": "code",
   "execution_count": null,
   "metadata": {
    "collapsed": true
   },
   "outputs": [],
   "source": []
  },
  {
   "cell_type": "markdown",
   "metadata": {},
   "source": [
    "## Submission instructions\n",
    "You should provide a single Jupyter notebook as a solution. The naming should include the assignment number and matriculation IDs of all team members in the following format:\n",
    "**assignment-1_matriculation1_matriculation_2_matriculation3.ipynb** (in case of 3 team members). \n",
    "Make sure to keep the order matriculation1_matriculation_2_matriculation3 the same for all assignments.\n",
    "\n",
    "Please, submit your solution to your tutor (with **[NNIA][assignment-1]** in email subject):\n",
    "1. Maksym Andriushchenko s8mmandr@stud.uni-saarland.de\n",
    "2. Marius Mosbach s9msmosb@stud.uni-saarland.de\n",
    "3. Rajarshi Biswas rbisw17@gmail.com\n",
    "\n",
    "**If you are in a team, please submit only 1 solution to only 1 tutor.**"
   ]
  }
 ],
 "metadata": {
  "kernelspec": {
   "display_name": "Python 3",
   "language": "python",
   "name": "python3"
  },
  "language_info": {
   "codemirror_mode": {
    "name": "ipython",
    "version": 3
   },
   "file_extension": ".py",
   "mimetype": "text/x-python",
   "name": "python",
   "nbconvert_exporter": "python",
   "pygments_lexer": "ipython3",
   "version": "3.6.2"
  }
 },
 "nbformat": 4,
 "nbformat_minor": 2
}
